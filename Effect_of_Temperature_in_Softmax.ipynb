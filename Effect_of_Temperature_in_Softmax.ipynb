{
  "nbformat": 4,
  "nbformat_minor": 0,
  "metadata": {
    "colab": {
      "provenance": []
    },
    "kernelspec": {
      "name": "python3",
      "display_name": "Python 3"
    },
    "language_info": {
      "name": "python"
    }
  },
  "cells": [
    {
      "cell_type": "code",
      "execution_count": null,
      "metadata": {
        "id": "CWK9OD-LSddb"
      },
      "outputs": [],
      "source": [
        "import numpy as np\n",
        "import matplotlib.pyplot as plt\n",
        "import numpy as np\n",
        "import time\n",
        "from IPython.display import  clear_output\n"
      ]
    },
    {
      "cell_type": "code",
      "source": [
        "#defining the softmax function, given the input logits, it will give out probability dist\n",
        "def softmax(xs,T):\n",
        "    return np.exp(xs/T) / sum(np.exp(xs/T))"
      ],
      "metadata": {
        "id": "xKb5B-0RWDqW"
      },
      "execution_count": null,
      "outputs": []
    },
    {
      "cell_type": "code",
      "source": [
        "#testing the softmax function\n",
        "xs = np.array([0, 1, 4, 1])\n",
        "print(softmax(xs,4)) # [0.0021657, 0.00588697, 0.11824302, 0.87370431]"
      ],
      "metadata": {
        "colab": {
          "base_uri": "https://localhost:8080/"
        },
        "id": "We4Hzn6jSh3g",
        "outputId": "469cf9b8-84ef-41d3-c1cc-69e39ff51ef7"
      },
      "execution_count": null,
      "outputs": [
        {
          "output_type": "stream",
          "name": "stdout",
          "text": [
            "[0.15907526 0.20425668 0.43241139 0.20425668]\n"
          ]
        }
      ]
    },
    {
      "cell_type": "markdown",
      "source": [
        "# Demo of softmax\n",
        "Imagine a scenario where our neural network has given us output logits, which is stored here as ``logits``. Now the we are tasked to convert these logits into probability distribution so that we can compare it against the true label (which will be a one hot encoding).\n",
        "\n",
        "Below we use ``np.random.randn`` to behave like a neural network and give us logits for a classification task of 6 labels. We will see how the probability distribution is generated."
      ],
      "metadata": {
        "id": "ExRLov35a68b"
      }
    },
    {
      "cell_type": "code",
      "source": [
        "T = 1\n",
        "classes = [\"dog\",\"cat\",\"monkey\",\"car\",\"van\",\"lorry\"]\n",
        "logits = np.random.randn( len(classes))\n",
        "y = softmax(logits,T)\n",
        "\n",
        "plt.stem(range(len(classes)), y ,label=f\"Temperature = {T}\")\n",
        "plt.xticks(range(len(classes)), classes, size='small')\n",
        "plt.legend(loc=\"upper left\")\n",
        "plt.show()"
      ],
      "metadata": {
        "id": "aRrisAZQSiju"
      },
      "execution_count": null,
      "outputs": []
    },
    {
      "cell_type": "markdown",
      "source": [
        "# Effect of Temperature on Softmax\n",
        "\n",
        "We see that for the previous demo we used temperature ``T = 1``, now we will change the temperature value from 1 -> 20 at steps of ``0.1`` and see how the probability distribution changes.\n",
        "\n",
        "Remember the logits are same as the logits used previously."
      ],
      "metadata": {
        "id": "pFb9HLy1b4yu"
      }
    },
    {
      "cell_type": "code",
      "source": [
        "#looping over T values and seeing how temperature effects the softmax output\n",
        "for T in np.arange(1,20,0.1):\n",
        "  clear_output(wait=True)\n",
        "  y = softmax(logits,T)\n",
        "\n",
        "  plt.stem(range(len(classes)), y ,label=f\"Temperature = {T:.3}\")\n",
        "  plt.xticks(range(len(classes)), classes, size='medium')\n",
        "  plt.legend(bbox_to_anchor=(0.5, 1.2), loc='upper center')\n",
        "  plt.tight_layout()\n",
        "  plt.show()\n",
        "  time.sleep(0.01)\n"
      ],
      "metadata": {
        "id": "MNmNJpGiWKER"
      },
      "execution_count": null,
      "outputs": []
    },
    {
      "cell_type": "code",
      "source": [],
      "metadata": {
        "id": "xx604fXiXtu0"
      },
      "execution_count": null,
      "outputs": []
    }
  ]
}